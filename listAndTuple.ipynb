{
 "cells": [
  {
   "cell_type": "code",
   "execution_count": 5,
   "id": "df914a00-cff3-4fc0-9e74-a058f581bae6",
   "metadata": {},
   "outputs": [
    {
     "name": "stdout",
     "output_type": "stream",
     "text": [
      "48\n",
      "72\n"
     ]
    }
   ],
   "source": [
    "tup = (1, 2, 3)\n",
    "li = [1, 2, 3]\n",
    "\n",
    "print(tup.__sizeof__())\n",
    "print(li.__sizeof__())"
   ]
  },
  {
   "cell_type": "code",
   "execution_count": null,
   "id": "4cd54d16-80b2-4bca-abb3-5b40fcdffa6e",
   "metadata": {},
   "outputs": [],
   "source": []
  }
 ],
 "metadata": {
  "kernelspec": {
   "display_name": "Python 3 (ipykernel)",
   "language": "python",
   "name": "python3"
  },
  "language_info": {
   "codemirror_mode": {
    "name": "ipython",
    "version": 3
   },
   "file_extension": ".py",
   "mimetype": "text/x-python",
   "name": "python",
   "nbconvert_exporter": "python",
   "pygments_lexer": "ipython3",
   "version": "3.11.3"
  }
 },
 "nbformat": 4,
 "nbformat_minor": 5
}
