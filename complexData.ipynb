{
 "cells": [
  {
   "cell_type": "code",
   "execution_count": 2,
   "id": "292a2378-46ca-47f8-a61f-7628b3ae5b9b",
   "metadata": {},
   "outputs": [
    {
     "name": "stdout",
     "output_type": "stream",
     "text": [
      "Point(x=11, y=22)\n"
     ]
    }
   ],
   "source": [
    "from collections import namedtuple\n",
    "\n",
    "Point = namedtuple('Point', ['x', 'y'])\n",
    "p1 = Point(11, 22)\n",
    "\n",
    "print(p1)"
   ]
  },
  {
   "cell_type": "code",
   "execution_count": 3,
   "id": "6d3aca53-96c2-490d-8ffc-1a9b327ff16d",
   "metadata": {},
   "outputs": [
    {
     "name": "stdout",
     "output_type": "stream",
     "text": [
      "(4, 6)\n"
     ]
    }
   ],
   "source": [
    "class Point2D(Point):\n",
    "    def __add__(self, p):\n",
    "        return self.x + p.x, self.y + p.y\n",
    "\n",
    "p2 = Point2D(1, 2)\n",
    "p3 = Point2D(3, 4)\n",
    "\n",
    "print(p2 + p3)"
   ]
  },
  {
   "cell_type": "code",
   "execution_count": 10,
   "id": "5b579e58-218e-4ba7-bff1-b74385fad7e4",
   "metadata": {},
   "outputs": [
    {
     "name": "stdout",
     "output_type": "stream",
     "text": [
      "Key already exists\n",
      "{'1': 1}\n"
     ]
    }
   ],
   "source": [
    "from collections import UserDict\n",
    "\n",
    "class MyDict(UserDict):\n",
    "    def __setitem__(self, key, value):\n",
    "        if key in self.data.keys():\n",
    "            print(\"Key already exists\")\n",
    "        else:\n",
    "            self.data[str(key)] = value\n",
    "\n",
    "dict1 = MyDict()\n",
    "\n",
    "dict1['1'] = 1\n",
    "dict1['1'] = 2\n",
    "\n",
    "print(dict1)"
   ]
  }
 ],
 "metadata": {
  "kernelspec": {
   "display_name": "Python 3 (ipykernel)",
   "language": "python",
   "name": "python3"
  },
  "language_info": {
   "codemirror_mode": {
    "name": "ipython",
    "version": 3
   },
   "file_extension": ".py",
   "mimetype": "text/x-python",
   "name": "python",
   "nbconvert_exporter": "python",
   "pygments_lexer": "ipython3",
   "version": "3.11.3"
  }
 },
 "nbformat": 4,
 "nbformat_minor": 5
}
