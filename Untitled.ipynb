{
 "cells": [
  {
   "cell_type": "code",
   "execution_count": 1,
   "id": "ce16d57d-1bdc-46a8-af39-0c02ba74faab",
   "metadata": {},
   "outputs": [
    {
     "name": "stdin",
     "output_type": "stream",
     "text": [
      " 234234\n"
     ]
    },
    {
     "data": {
      "text/plain": [
       "'234234'"
      ]
     },
     "execution_count": 1,
     "metadata": {},
     "output_type": "execute_result"
    }
   ],
   "source": [
    "input()"
   ]
  },
  {
   "cell_type": "raw",
   "id": "8fc06eef-5cca-4ccc-8a47-ef752fb7b96e",
   "metadata": {},
   "source": [
    "input(\"请输入\")"
   ]
  },
  {
   "cell_type": "code",
   "execution_count": 3,
   "id": "477588ef-5e9c-46db-b512-f547c3e8f8bd",
   "metadata": {},
   "outputs": [
    {
     "name": "stdout",
     "output_type": "stream",
     "text": [
      "Hello \"world\"\n"
     ]
    }
   ],
   "source": [
    "print('Hello \"world\"')"
   ]
  },
  {
   "cell_type": "code",
   "execution_count": 5,
   "id": "3874a507-5f9b-4a53-9bd5-1377fc4e1afb",
   "metadata": {},
   "outputs": [
    {
     "name": "stdout",
     "output_type": "stream",
     "text": [
      "\n",
      "Hello\n",
      "     World\n",
      "     \n"
     ]
    }
   ],
   "source": [
    "print('''\n",
    "Hello\n",
    "     World\n",
    "     ''')"
   ]
  },
  {
   "cell_type": "code",
   "execution_count": 7,
   "id": "685e671e-7160-48fd-a822-ffc7e3527d6c",
   "metadata": {},
   "outputs": [
    {
     "name": "stdout",
     "output_type": "stream",
     "text": [
      "x is 123\n"
     ]
    }
   ],
   "source": [
    "x = 123\n",
    "print(f\"x is {x}\")"
   ]
  },
  {
   "cell_type": "code",
   "execution_count": 8,
   "id": "f75f4877-c0d5-40f3-a485-db0c09fede45",
   "metadata": {},
   "outputs": [
    {
     "data": {
      "text/plain": [
       "False"
      ]
     },
     "execution_count": 8,
     "metadata": {},
     "output_type": "execute_result"
    }
   ],
   "source": [
    "\"x\" in \"asdasdasd\""
   ]
  },
  {
   "cell_type": "code",
   "execution_count": 13,
   "id": "967eb4ef-4f1d-4591-b8d5-786ce352be80",
   "metadata": {},
   "outputs": [
    {
     "data": {
      "text/plain": [
       "True"
      ]
     },
     "execution_count": 13,
     "metadata": {},
     "output_type": "execute_result"
    }
   ],
   "source": [
    "x = \"what\"\n",
    "y = \"what is it\"\n",
    "x in y"
   ]
  },
  {
   "cell_type": "code",
   "execution_count": 12,
   "id": "097b19d4-de7a-44ad-92f7-de221c3dd95f",
   "metadata": {},
   "outputs": [
    {
     "data": {
      "text/plain": [
       "False"
      ]
     },
     "execution_count": 12,
     "metadata": {},
     "output_type": "execute_result"
    }
   ],
   "source": [
    "x = \"what\"\n",
    "y = \"what is it\"\n",
    "x not in y"
   ]
  },
  {
   "cell_type": "code",
   "execution_count": 18,
   "id": "45aa9323-2b73-45d8-a85c-bff241f01267",
   "metadata": {},
   "outputs": [
    {
     "data": {
      "text/plain": [
       "'aa'"
      ]
     },
     "execution_count": 18,
     "metadata": {},
     "output_type": "execute_result"
    }
   ],
   "source": [
    "x = \"asdadsasdasd\"\n",
    "x[0:5:3]"
   ]
  },
  {
   "cell_type": "code",
   "execution_count": 20,
   "id": "0dc5de17-9c8d-4c74-906f-58d2948c1ba2",
   "metadata": {},
   "outputs": [
    {
     "name": "stdout",
     "output_type": "stream",
     "text": [
      "0.4\n",
      "0\n",
      "2\n"
     ]
    }
   ],
   "source": [
    "print(2 / 5)\n",
    "print(2 // 5)\n",
    "print(2 % 5)"
   ]
  },
  {
   "cell_type": "code",
   "execution_count": 21,
   "id": "7ba510f9-379e-4f66-9289-fe1bf845e51b",
   "metadata": {},
   "outputs": [
    {
     "name": "stdout",
     "output_type": "stream",
     "text": [
      "1\n"
     ]
    }
   ],
   "source": [
    "print(abs(-1))"
   ]
  },
  {
   "cell_type": "code",
   "execution_count": 25,
   "id": "0fc8aabb-920f-49ee-9332-3bb7e53c9fbf",
   "metadata": {},
   "outputs": [
    {
     "name": "stdout",
     "output_type": "stream",
     "text": [
      "<class 'str'>\n"
     ]
    }
   ],
   "source": [
    "x = 1\n",
    "x = str(1)\n",
    "print(type(x))"
   ]
  },
  {
   "cell_type": "code",
   "execution_count": 27,
   "id": "b29196bf-ec62-4540-98c7-b6579093d200",
   "metadata": {},
   "outputs": [
    {
     "data": {
      "text/plain": [
       "True"
      ]
     },
     "execution_count": 27,
     "metadata": {},
     "output_type": "execute_result"
    }
   ],
   "source": [
    "\"ABC\" > \"ABD\"\n",
    "# \"ABC\" > 123\n",
    "123.0 > 123\n",
    "\"123.0\" > \"123\""
   ]
  },
  {
   "cell_type": "code",
   "execution_count": 29,
   "id": "b9cfb998-4394-43a6-a0a4-08e516246736",
   "metadata": {},
   "outputs": [
    {
     "name": "stdin",
     "output_type": "stream",
     "text": [
      "Number 1: 2\n",
      "Number 2: 5\n",
      "Operation: *\n"
     ]
    },
    {
     "name": "stdout",
     "output_type": "stream",
     "text": [
      "Result is 10\n"
     ]
    }
   ],
   "source": [
    "num1 = input(\"Number 1:\")\n",
    "num2 = input(\"Number 2:\")\n",
    "operation = input(\"Operation:\")\n",
    "result = eval(f\"{num1}{operation}{num2}\")\n",
    "print(f\"Result is {result}\")"
   ]
  },
  {
   "cell_type": "code",
   "execution_count": 43,
   "id": "59666505-1008-4a5b-9456-64256b345e4d",
   "metadata": {},
   "outputs": [
    {
     "name": "stdout",
     "output_type": "stream",
     "text": [
      "[1, 2, 3, 'bb', ['aa'], 6]\n",
      "[1, 2, 3, 'bb', ['aa'], 5, 6]\n",
      "[1, 2, 3, 'bb', 4, ['aa'], 5, 6]\n",
      "[1, 2, 3, 'bb', 4, ['aa'], 7, 5, 6]\n",
      "[1, 2, 3, 'bb', 4, ['aa'], 7, 5, 6, [8, 9, 10]]\n",
      "[1, 2, 3, 'bb', 4, ['aa'], 7, 5, 6, [8, 9, 10], 11, 12, 13]\n",
      "[1, 2, 3, 'bb', 4, ['aa'], 7, 5, 6, [8, 9, 10], 11, 12, 14, 13]\n"
     ]
    }
   ],
   "source": [
    "a = [1, 2, 3, 'bb', ['aa']]\n",
    "a.insert(6, 6)\n",
    "print(a)\n",
    "a.insert(5, 5)\n",
    "print(a)\n",
    "a.insert(4, 4)\n",
    "print(a)\n",
    "a.insert(6, 7)\n",
    "print(a)\n",
    "a.append([8, 9, 10])\n",
    "print(a)\n",
    "a.extend([11, 12, 13])\n",
    "print(a)\n",
    "a.insert(-1, 14)\n",
    "print(a)"
   ]
  },
  {
   "cell_type": "code",
   "execution_count": 44,
   "id": "d52cc6d5-1b8d-46a9-9c45-509bc05b8368",
   "metadata": {},
   "outputs": [
    {
     "name": "stdout",
     "output_type": "stream",
     "text": [
      "[1, 2, 3, 4, 5, 6]\n"
     ]
    }
   ],
   "source": [
    "a = [1, 2, 3]\n",
    "b = [4, 5, 6]\n",
    "print(a + b)"
   ]
  },
  {
   "cell_type": "code",
   "execution_count": 48,
   "id": "cd373b64-73ee-4868-a7d8-b540852b7a0e",
   "metadata": {},
   "outputs": [
    {
     "ename": "IndexError",
     "evalue": "tuple index out of range",
     "output_type": "error",
     "traceback": [
      "\u001b[0;31m---------------------------------------------------------------------------\u001b[0m",
      "\u001b[0;31mIndexError\u001b[0m                                Traceback (most recent call last)",
      "Cell \u001b[0;32mIn[48], line 2\u001b[0m\n\u001b[1;32m      1\u001b[0m a \u001b[38;5;241m=\u001b[39m (\u001b[38;5;241m1\u001b[39m, \u001b[38;5;241m2\u001b[39m, \u001b[38;5;241m3\u001b[39m)\n\u001b[0;32m----> 2\u001b[0m \u001b[43ma\u001b[49m\u001b[43m[\u001b[49m\u001b[38;5;241;43m4\u001b[39;49m\u001b[43m]\u001b[49m\n",
      "\u001b[0;31mIndexError\u001b[0m: tuple index out of range"
     ]
    }
   ],
   "source": [
    "a = (1, 2, 3)\n",
    "a[4]"
   ]
  },
  {
   "cell_type": "code",
   "execution_count": 51,
   "id": "11ff161d-a782-46a0-80ef-6fdfa538c84c",
   "metadata": {},
   "outputs": [
    {
     "name": "stdout",
     "output_type": "stream",
     "text": [
      "('r', 'b', 'g')\n"
     ]
    }
   ],
   "source": [
    "color = ('r', 'g', 'b', 'r', 'g', 'b', 'b')\n",
    "color = set(color)\n",
    "color = tuple(color)\n",
    "print(color)"
   ]
  },
  {
   "cell_type": "code",
   "execution_count": 58,
   "id": "4d6df385-ef79-4a34-b683-ad9ba185674d",
   "metadata": {},
   "outputs": [
    {
     "name": "stdout",
     "output_type": "stream",
     "text": [
      "1:name\n",
      "2:sex\n",
      "3:age\n",
      "{1: 'name', 2: 'sex', 3: 'age', 4: None}\n"
     ]
    }
   ],
   "source": [
    "dict1 = {1: \"name\", 2: \"sex\", 3: \"age\"}\n",
    "# dict1.items()\n",
    "# dict1.keys()\n",
    "# dict1.values()\n",
    "\n",
    "for k, v in dict1.items():\n",
    "    print(str(k) + \":\" + v)\n",
    "\n",
    "dict1.setdefault(4)\n",
    "print(dict1)"
   ]
  },
  {
   "cell_type": "code",
   "execution_count": 72,
   "id": "b5b37fc6-0055-4ae0-9b1a-aafed67c3646",
   "metadata": {},
   "outputs": [
    {
     "name": "stdout",
     "output_type": "stream",
     "text": [
      "dict_items([('a', 1), ('b', 2)])\n"
     ]
    }
   ],
   "source": [
    "dict1 = {'a': 1, 'b': 2}\n",
    "# dict2 = {'b': 3, 'c': 4}\n",
    "\n",
    "print(dict1.items())\n",
    "\n",
    "# for k, i in enumerate(dict1):\n",
    "#     print(k)\n",
    "#     print(i)\n",
    "\n",
    "# dict1 |= dict2\n",
    "# print(dict1)\n",
    "# print(dict2)"
   ]
  },
  {
   "cell_type": "code",
   "execution_count": 60,
   "id": "9278a3f3-83d6-4676-bc9e-79a49561f7f6",
   "metadata": {},
   "outputs": [
    {
     "name": "stdout",
     "output_type": "stream",
     "text": [
      "5\n",
      "4\n",
      "3\n",
      "2\n",
      "1\n",
      "0\n"
     ]
    }
   ],
   "source": [
    "number = 10\n",
    "while number >= 1:\n",
    "    number -= 1\n",
    "    if number > 5:\n",
    "        continue\n",
    "    print(number)"
   ]
  },
  {
   "cell_type": "code",
   "execution_count": 62,
   "id": "d1858daa-1ad2-49b5-9bf4-71711e17a274",
   "metadata": {},
   "outputs": [
    {
     "name": "stdout",
     "output_type": "stream",
     "text": [
      "1\n",
      "2\n",
      "3\n",
      "4\n",
      "5\n",
      "6\n",
      "7\n",
      "8\n",
      "9\n"
     ]
    }
   ],
   "source": [
    "for i in range(1, 10):\n",
    "    print(i)"
   ]
  },
  {
   "cell_type": "code",
   "execution_count": 69,
   "id": "38cc11e9-eecb-41a6-abd4-ce1a461bc4b2",
   "metadata": {},
   "outputs": [
    {
     "name": "stdout",
     "output_type": "stream",
     "text": [
      "0 is PHOEBE\n",
      "1 is JOEY\n",
      "2 is MONICA\n",
      "3 is RACHEL\n"
     ]
    }
   ],
   "source": [
    "a = [ \"rachel\", \"monica\", \"Phoebe\", \"joey\" ]\n",
    "a.sort()\n",
    "b = [ i.upper() for i in a ]\n",
    "# print(enumerate(b))\n",
    "for i, item in enumerate(b):\n",
    "    print(f\"{i} is {item}\")\n",
    "    "
   ]
  },
  {
   "cell_type": "code",
   "execution_count": 74,
   "id": "9cb30d41-4645-4fe1-9c78-c8577b946802",
   "metadata": {},
   "outputs": [
    {
     "ename": "SyntaxError",
     "evalue": "invalid syntax (2394603.py, line 4)",
     "output_type": "error",
     "traceback": [
      "\u001b[0;36m  Cell \u001b[0;32mIn[74], line 4\u001b[0;36m\u001b[0m\n\u001b[0;31m    if i < 100 && i % 7 == 0:\u001b[0m\n\u001b[0m                ^\u001b[0m\n\u001b[0;31mSyntaxError\u001b[0m\u001b[0;31m:\u001b[0m invalid syntax\n"
     ]
    }
   ],
   "source": [
    "a = [10, 7, 19]\n",
    "\n",
    "for i in a:\n",
    "    if i < 100 && i % 7 == 0:\n",
    "            print(i)"
   ]
  },
  {
   "cell_type": "code",
   "execution_count": null,
   "id": "b47a3b77-3fe3-4784-afd9-44e059ccb7bf",
   "metadata": {},
   "outputs": [],
   "source": []
  }
 ],
 "metadata": {
  "kernelspec": {
   "display_name": "Python 3 (ipykernel)",
   "language": "python",
   "name": "python3"
  },
  "language_info": {
   "codemirror_mode": {
    "name": "ipython",
    "version": 3
   },
   "file_extension": ".py",
   "mimetype": "text/x-python",
   "name": "python",
   "nbconvert_exporter": "python",
   "pygments_lexer": "ipython3",
   "version": "3.11.3"
  }
 },
 "nbformat": 4,
 "nbformat_minor": 5
}
