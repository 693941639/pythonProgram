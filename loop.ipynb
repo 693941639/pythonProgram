{
 "cells": [
  {
   "cell_type": "code",
   "execution_count": 8,
   "id": "677d3962-88d1-4c9c-a205-bc0815ee5092",
   "metadata": {},
   "outputs": [
    {
     "name": "stdout",
     "output_type": "stream",
     "text": [
      "[{'name': 'jason', 'dob': '2000-01-01', 'gender': 'male'}, {'name': 'mike', 'dob': '1999-01-01', 'gender': 'male'}, {'name': 'nancy', 'dob': '2001-02-01', 'gender': 'female'}]\n"
     ]
    }
   ],
   "source": [
    "attributes = ['name', 'dob', 'gender']\n",
    "values = [['jason', '2000-01-01', 'male'], ['mike', '1999-01-01', 'male'],['nancy', '2001-02-01', 'female']]\n",
    "# l = []\n",
    "# for v in values:\n",
    "#     # row = {}\n",
    "#     # for i, attribute in enumerate(attributes):\n",
    "#     #     row[attribute] = v[i]\n",
    "#     l.append(dict(zip(attributes, v)))\n",
    "# print(l)\n",
    "\n",
    "print([dict(zip(attributes, v)) for v in values])"
   ]
  },
  {
   "cell_type": "code",
   "execution_count": null,
   "id": "1ae1add0-9b04-426d-8d03-6897ec1bfa6f",
   "metadata": {},
   "outputs": [],
   "source": []
  }
 ],
 "metadata": {
  "kernelspec": {
   "display_name": "Python 3 (ipykernel)",
   "language": "python",
   "name": "python3"
  },
  "language_info": {
   "codemirror_mode": {
    "name": "ipython",
    "version": 3
   },
   "file_extension": ".py",
   "mimetype": "text/x-python",
   "name": "python",
   "nbconvert_exporter": "python",
   "pygments_lexer": "ipython3",
   "version": "3.11.3"
  }
 },
 "nbformat": 4,
 "nbformat_minor": 5
}
