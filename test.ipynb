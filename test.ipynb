{
 "cells": [
  {
   "cell_type": "code",
   "execution_count": 1,
   "id": "7ab968e4-d6f9-4b0d-9bc0-934d65981282",
   "metadata": {},
   "outputs": [],
   "source": [
    "import test66"
   ]
  },
  {
   "cell_type": "code",
   "execution_count": 3,
   "id": "8df9e7c0-7f8c-4875-84bf-d44055967b09",
   "metadata": {},
   "outputs": [
    {
     "data": {
      "text/plain": [
       "['Test',\n",
       " '__builtins__',\n",
       " '__cached__',\n",
       " '__doc__',\n",
       " '__file__',\n",
       " '__loader__',\n",
       " '__name__',\n",
       " '__package__',\n",
       " '__spec__',\n",
       " 'func1',\n",
       " 'var']"
      ]
     },
     "execution_count": 3,
     "metadata": {},
     "output_type": "execute_result"
    }
   ],
   "source": [
    "dir(test66)"
   ]
  },
  {
   "cell_type": "code",
   "execution_count": 4,
   "id": "eb92e0e4-f9f2-4e84-a380-f989751ea464",
   "metadata": {},
   "outputs": [
    {
     "data": {
      "text/plain": [
       "'lala'"
      ]
     },
     "execution_count": 4,
     "metadata": {},
     "output_type": "execute_result"
    }
   ],
   "source": [
    "test = test66.Test(\"lala\")\n",
    "test.name"
   ]
  },
  {
   "cell_type": "code",
   "execution_count": null,
   "id": "03986ea0-155e-489a-9586-9c1b97c96c53",
   "metadata": {},
   "outputs": [],
   "source": []
  }
 ],
 "metadata": {
  "kernelspec": {
   "display_name": "Python 3 (ipykernel)",
   "language": "python",
   "name": "python3"
  },
  "language_info": {
   "codemirror_mode": {
    "name": "ipython",
    "version": 3
   },
   "file_extension": ".py",
   "mimetype": "text/x-python",
   "name": "python",
   "nbconvert_exporter": "python",
   "pygments_lexer": "ipython3",
   "version": "3.10.7"
  }
 },
 "nbformat": 4,
 "nbformat_minor": 5
}
