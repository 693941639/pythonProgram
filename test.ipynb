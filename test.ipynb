{
 "cells": [
  {
   "cell_type": "code",
   "execution_count": 1,
   "id": "7ab968e4-d6f9-4b0d-9bc0-934d65981282",
   "metadata": {},
   "outputs": [],
   "source": [
    "import test66"
   ]
  },
  {
   "cell_type": "code",
   "execution_count": 3,
   "id": "8df9e7c0-7f8c-4875-84bf-d44055967b09",
   "metadata": {},
   "outputs": [
    {
     "data": {
      "text/plain": [
       "['Test',\n",
       " '__builtins__',\n",
       " '__cached__',\n",
       " '__doc__',\n",
       " '__file__',\n",
       " '__loader__',\n",
       " '__name__',\n",
       " '__package__',\n",
       " '__spec__',\n",
       " 'func1',\n",
       " 'var']"
      ]
     },
     "execution_count": 3,
     "metadata": {},
     "output_type": "execute_result"
    }
   ],
   "source": [
    "dir(test66)"
   ]
  },
  {
   "cell_type": "code",
   "execution_count": 4,
   "id": "eb92e0e4-f9f2-4e84-a380-f989751ea464",
   "metadata": {},
   "outputs": [
    {
     "data": {
      "text/plain": [
       "'lala'"
      ]
     },
     "execution_count": 4,
     "metadata": {},
     "output_type": "execute_result"
    }
   ],
   "source": [
    "test = test66.Test(\"lala\")\n",
    "test.name"
   ]
  },
  {
   "cell_type": "code",
   "execution_count": 2,
   "id": "03986ea0-155e-489a-9586-9c1b97c96c53",
   "metadata": {},
   "outputs": [
    {
     "name": "stdout",
     "output_type": "stream",
     "text": [
      "[('ben', 30), ('mike', 10), ('lucy', 2)]\n"
     ]
    }
   ],
   "source": [
    "d = {'mike': 10, 'lucy': 2, 'ben': 30}\n",
    "print(sorted(d.items(), key=lambda x: x[1], reverse=True))"
   ]
  },
  {
   "cell_type": "code",
   "execution_count": 2,
   "id": "283dcc4c-eebd-4f4a-b913-7764176bb87a",
   "metadata": {},
   "outputs": [
    {
     "name": "stdout",
     "output_type": "stream",
     "text": [
      "4490106544 4490111120\n"
     ]
    }
   ],
   "source": [
    "a = 257\n",
    "b = 257\n",
    "\n",
    "print(id(a), id(b))"
   ]
  },
  {
   "cell_type": "code",
   "execution_count": 5,
   "id": "f9b1dcf0-988b-4f74-8d2d-9309ea1e32b8",
   "metadata": {},
   "outputs": [
    {
     "name": "stdout",
     "output_type": "stream",
     "text": [
      "[1, [...]]\n",
      "[1, [...]]\n"
     ]
    },
    {
     "ename": "RecursionError",
     "evalue": "maximum recursion depth exceeded in comparison",
     "output_type": "error",
     "traceback": [
      "\u001b[0;31m---------------------------------------------------------------------------\u001b[0m",
      "\u001b[0;31mRecursionError\u001b[0m                            Traceback (most recent call last)",
      "Cell \u001b[0;32mIn[5], line 8\u001b[0m\n\u001b[1;32m      6\u001b[0m \u001b[38;5;28mprint\u001b[39m(y)\n\u001b[1;32m      7\u001b[0m \u001b[38;5;66;03m# 以下命令的输出是？\u001b[39;00m\n\u001b[0;32m----> 8\u001b[0m \u001b[43mx\u001b[49m\u001b[43m \u001b[49m\u001b[38;5;241;43m==\u001b[39;49m\u001b[43m \u001b[49m\u001b[43my\u001b[49m\n",
      "\u001b[0;31mRecursionError\u001b[0m: maximum recursion depth exceeded in comparison"
     ]
    }
   ],
   "source": [
    "import copy\n",
    "x = [1]\n",
    "x.append(x)\n",
    "print(x)\n",
    "y = copy.deepcopy(x)\n",
    "print(y)\n",
    "# 以下命令的输出是？\n",
    "x == y"
   ]
  },
  {
   "cell_type": "code",
   "execution_count": 9,
   "id": "5ad090f7-7175-4f89-84bb-cf69e4eff901",
   "metadata": {},
   "outputs": [
    {
     "name": "stdout",
     "output_type": "stream",
     "text": [
      "4447563336\n",
      "4447563368\n"
     ]
    }
   ],
   "source": [
    "a = [1, 2, 3]\n",
    "\n",
    "b = 2\n",
    "\n",
    "def test(p):\n",
    "    p = 3\n",
    "    print(id(p))\n",
    "\n",
    "# print(id(a))\n",
    "# test(a)\n",
    "\n",
    "print(id(b))\n",
    "test(b)"
   ]
  },
  {
   "cell_type": "code",
   "execution_count": 10,
   "id": "2cdb12c0-d45a-4e74-ad93-2b99e7b6a388",
   "metadata": {},
   "outputs": [
    {
     "data": {
      "text/plain": [
       "True"
      ]
     },
     "execution_count": 10,
     "metadata": {},
     "output_type": "execute_result"
    }
   ],
   "source": [
    "a = \"a.txt\"\n",
    "b = \"C:/b/a.txt\"\n",
    "\n",
    "a in b"
   ]
  },
  {
   "cell_type": "code",
   "execution_count": 12,
   "id": "43515063-7bfc-4917-97d4-7c2f4241f17f",
   "metadata": {},
   "outputs": [
    {
     "name": "stdout",
     "output_type": "stream",
     "text": [
      "a\n"
     ]
    }
   ],
   "source": [
    "def test(t):\n",
    "    def test1():\n",
    "        print(t)\n",
    "    test1()\n",
    "\n",
    "test(\"a\")"
   ]
  },
  {
   "cell_type": "code",
   "execution_count": 19,
   "id": "969bf313-0af5-4e13-8083-7b9d6f7d4698",
   "metadata": {},
   "outputs": [
    {
     "name": "stdout",
     "output_type": "stream",
     "text": [
      "a\n",
      "b\n"
     ]
    },
    {
     "ename": "StopIteration",
     "evalue": "",
     "output_type": "error",
     "traceback": [
      "\u001b[0;31m---------------------------------------------------------------------------\u001b[0m",
      "\u001b[0;31mStopIteration\u001b[0m                             Traceback (most recent call last)",
      "Cell \u001b[0;32mIn[19], line 8\u001b[0m\n\u001b[1;32m      6\u001b[0m \u001b[38;5;28mprint\u001b[39m(\u001b[38;5;28mnext\u001b[39m(gene))\n\u001b[1;32m      7\u001b[0m \u001b[38;5;28mprint\u001b[39m(\u001b[38;5;28mnext\u001b[39m(gene))\n\u001b[0;32m----> 8\u001b[0m \u001b[38;5;28mprint\u001b[39m(\u001b[38;5;28;43mnext\u001b[39;49m\u001b[43m(\u001b[49m\u001b[43mgene\u001b[49m\u001b[43m)\u001b[49m)\n",
      "\u001b[0;31mStopIteration\u001b[0m: "
     ]
    }
   ],
   "source": [
    "def generator_t():\n",
    "    for i in \"ab\":\n",
    "        yield i\n",
    "\n",
    "gene = generator_t()\n",
    "print(next(gene))\n",
    "print(next(gene))\n",
    "print(next(gene))"
   ]
  },
  {
   "cell_type": "code",
   "execution_count": 24,
   "id": "071f898a-94f5-4ae6-849a-3b121b18e9f7",
   "metadata": {},
   "outputs": [
    {
     "name": "stdout",
     "output_type": "stream",
     "text": [
      "<generator object is_subsequence.<locals>.<genexpr> at 0x10ba3eea0>\n",
      "None\n"
     ]
    }
   ],
   "source": [
    "\n",
    "def is_subsequence(a, b):\n",
    "    b = iter(b)\n",
    "    print(i in b for i in a)\n",
    "    # return all(i in b for i in a)\n",
    "\n",
    "print(is_subsequence([1, 3, 5], [1, 2, 3, 4, 5]))"
   ]
  },
  {
   "cell_type": "code",
   "execution_count": 37,
   "id": "e1d24f92-8b00-4f71-b421-07ad4d2e738b",
   "metadata": {},
   "outputs": [
    {
     "name": "stdout",
     "output_type": "stream",
     "text": [
      "a\n",
      "b\n",
      "c\n",
      "d\n"
     ]
    }
   ],
   "source": [
    "a = (i for i in \"abcd\")\n",
    "b = iter(\"abcd\")\n",
    "\n",
    "# for i in a:\n",
    "#     print(i)\n",
    "\n",
    "# for j in a:\n",
    "#     print(j)\n",
    "\n",
    "for x in b:\n",
    "    print(x)\n",
    "\n",
    "for y in b:\n",
    "    print(y)"
   ]
  }
 ],
 "metadata": {
  "kernelspec": {
   "display_name": "Python 3 (ipykernel)",
   "language": "python",
   "name": "python3"
  },
  "language_info": {
   "codemirror_mode": {
    "name": "ipython",
    "version": 3
   },
   "file_extension": ".py",
   "mimetype": "text/x-python",
   "name": "python",
   "nbconvert_exporter": "python",
   "pygments_lexer": "ipython3",
   "version": "3.11.3"
  }
 },
 "nbformat": 4,
 "nbformat_minor": 5
}
