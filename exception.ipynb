{
 "cells": [
  {
   "cell_type": "code",
   "execution_count": 2,
   "id": "f6370cad-2b60-4bd5-8d80-9bac4e4fb9d2",
   "metadata": {},
   "outputs": [
    {
     "name": "stdout",
     "output_type": "stream",
     "text": [
      "division by zero\n"
     ]
    }
   ],
   "source": [
    "try:\n",
    "    1 / 0\n",
    "except Exception as e:\n",
    "    print(e)"
   ]
  },
  {
   "cell_type": "code",
   "execution_count": 5,
   "id": "b2416d5d-c24a-4979-989c-f31d178d2cc1",
   "metadata": {},
   "outputs": [
    {
     "name": "stdout",
     "output_type": "stream",
     "text": [
      "This is MyException\n"
     ]
    }
   ],
   "source": [
    "class MyException(Exception):\n",
    "    pass\n",
    "try:\n",
    "    raise MyException\n",
    "except MyException:\n",
    "    print(\"This is MyException\")"
   ]
  },
  {
   "cell_type": "code",
   "execution_count": 1,
   "id": "4edf1bfb-4df9-454a-b780-baeebc6033f1",
   "metadata": {},
   "outputs": [
    {
     "name": "stdout",
     "output_type": "stream",
     "text": [
      "MyClass Enter\n"
     ]
    },
    {
     "ename": "TypeError",
     "evalue": "MyClass.__exit__() takes 1 positional argument but 4 were given",
     "output_type": "error",
     "traceback": [
      "\u001b[0;31m---------------------------------------------------------------------------\u001b[0m",
      "\u001b[0;31mAttributeError\u001b[0m                            Traceback (most recent call last)",
      "Cell \u001b[0;32mIn[1], line 10\u001b[0m\n\u001b[1;32m      9\u001b[0m \u001b[38;5;28;01mwith\u001b[39;00m MyClass() \u001b[38;5;28;01mas\u001b[39;00m mc:\n\u001b[0;32m---> 10\u001b[0m     \u001b[43mmc\u001b[49m\u001b[38;5;241;43m.\u001b[39;49m\u001b[43msay\u001b[49m()\n",
      "\u001b[0;31mAttributeError\u001b[0m: 'NoneType' object has no attribute 'say'",
      "\nDuring handling of the above exception, another exception occurred:\n",
      "\u001b[0;31mTypeError\u001b[0m                                 Traceback (most recent call last)",
      "Cell \u001b[0;32mIn[1], line 9\u001b[0m\n\u001b[1;32m      6\u001b[0m     \u001b[38;5;28;01mdef\u001b[39;00m \u001b[38;5;21msay\u001b[39m(\u001b[38;5;28mself\u001b[39m):\n\u001b[1;32m      7\u001b[0m         \u001b[38;5;28mprint\u001b[39m(\u001b[38;5;124m\"\u001b[39m\u001b[38;5;124msay\u001b[39m\u001b[38;5;124m\"\u001b[39m)\n\u001b[0;32m----> 9\u001b[0m \u001b[38;5;28;01mwith\u001b[39;00m MyClass() \u001b[38;5;28;01mas\u001b[39;00m mc:\n\u001b[1;32m     10\u001b[0m     mc\u001b[38;5;241m.\u001b[39msay()\n",
      "\u001b[0;31mTypeError\u001b[0m: MyClass.__exit__() takes 1 positional argument but 4 were given"
     ]
    }
   ],
   "source": [
    "class MyClass:\n",
    "    def __enter__(self):\n",
    "        print(\"MyClass Enter\")\n",
    "    def __exit__(self):\n",
    "        print(\"MyClass Exit\")\n",
    "    def say(self):\n",
    "        print(\"say\")\n",
    "\n",
    "with MyClass() as mc:\n",
    "    mc.say()"
   ]
  },
  {
   "cell_type": "code",
   "execution_count": null,
   "id": "b76ae34d-f572-479c-9356-abb7b396e4a8",
   "metadata": {},
   "outputs": [],
   "source": []
  }
 ],
 "metadata": {
  "kernelspec": {
   "display_name": "Python 3 (ipykernel)",
   "language": "python",
   "name": "python3"
  },
  "language_info": {
   "codemirror_mode": {
    "name": "ipython",
    "version": 3
   },
   "file_extension": ".py",
   "mimetype": "text/x-python",
   "name": "python",
   "nbconvert_exporter": "python",
   "pygments_lexer": "ipython3",
   "version": "3.10.7"
  }
 },
 "nbformat": 4,
 "nbformat_minor": 5
}
