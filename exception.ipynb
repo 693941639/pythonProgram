{
 "cells": [
  {
   "cell_type": "code",
   "execution_count": 2,
   "id": "f6370cad-2b60-4bd5-8d80-9bac4e4fb9d2",
   "metadata": {},
   "outputs": [
    {
     "name": "stdout",
     "output_type": "stream",
     "text": [
      "division by zero\n"
     ]
    }
   ],
   "source": [
    "try:\n",
    "    1 / 0\n",
    "except Exception as e:\n",
    "    print(e)"
   ]
  },
  {
   "cell_type": "code",
   "execution_count": 5,
   "id": "b2416d5d-c24a-4979-989c-f31d178d2cc1",
   "metadata": {},
   "outputs": [
    {
     "name": "stdout",
     "output_type": "stream",
     "text": [
      "This is MyException\n"
     ]
    }
   ],
   "source": [
    "class MyException(Exception):\n",
    "    pass\n",
    "try:\n",
    "    raise MyException\n",
    "except MyException:\n",
    "    print(\"This is MyException\")"
   ]
  },
  {
   "cell_type": "code",
   "execution_count": 4,
   "id": "4edf1bfb-4df9-454a-b780-baeebc6033f1",
   "metadata": {},
   "outputs": [
    {
     "name": "stdout",
     "output_type": "stream",
     "text": [
      "MyClass Enter\n",
      "say\n",
      "MyClass Exit None None None\n"
     ]
    }
   ],
   "source": [
    "class MyClass:\n",
    "    def __enter__(self):\n",
    "        print(\"MyClass Enter\")\n",
    "        return MyClass()\n",
    "    def __exit__(self, exc_type, exc_value, traceback):\n",
    "        print(\"MyClass Exit\", exc_type, exc_value, traceback)\n",
    "    def say(self):\n",
    "        print(\"say\")\n",
    "\n",
    "with MyClass() as mc:\n",
    "    mc.say()"
   ]
  },
  {
   "cell_type": "code",
   "execution_count": null,
   "id": "b76ae34d-f572-479c-9356-abb7b396e4a8",
   "metadata": {},
   "outputs": [],
   "source": []
  }
 ],
 "metadata": {
  "kernelspec": {
   "display_name": "Python 3 (ipykernel)",
   "language": "python",
   "name": "python3"
  },
  "language_info": {
   "codemirror_mode": {
    "name": "ipython",
    "version": 3
   },
   "file_extension": ".py",
   "mimetype": "text/x-python",
   "name": "python",
   "nbconvert_exporter": "python",
   "pygments_lexer": "ipython3",
   "version": "3.11.3"
  }
 },
 "nbformat": 4,
 "nbformat_minor": 5
}
