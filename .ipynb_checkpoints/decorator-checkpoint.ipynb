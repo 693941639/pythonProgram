{
 "cells": [
  {
   "cell_type": "code",
   "execution_count": 4,
   "id": "3d0dd796-82e6-4935-bf13-706a429f446b",
   "metadata": {},
   "outputs": [
    {
     "name": "stdout",
     "output_type": "stream",
     "text": [
      "This is wrapper\n",
      "test1\n"
     ]
    }
   ],
   "source": [
    "def my_decorator1(func):\n",
    "    def wrapper():\n",
    "        print(\"This is wrapper\")\n",
    "        func()\n",
    "    return wrapper\n",
    "\n",
    "def test1():\n",
    "    print(\"test1\")\n",
    "\n",
    "fun = my_decorator1(test1)\n",
    "fun()"
   ]
  },
  {
   "cell_type": "code",
   "execution_count": 5,
   "id": "115a109a-4796-417f-b04e-e0f67e99d905",
   "metadata": {},
   "outputs": [
    {
     "name": "stdout",
     "output_type": "stream",
     "text": [
      "This is wrapper\n",
      "test2\n"
     ]
    }
   ],
   "source": [
    "def my_decorator2(func):\n",
    "    def wrapper():\n",
    "        print(\"This is wrapper\")\n",
    "        func()\n",
    "    return wrapper\n",
    "\n",
    "@my_decorator2\n",
    "def test2():\n",
    "    print(\"test2\")\n",
    "\n",
    "test2()"
   ]
  },
  {
   "cell_type": "code",
   "execution_count": 17,
   "id": "c0e1ded1-2153-4794-a2fc-adb7e6bed15b",
   "metadata": {},
   "outputs": [
    {
     "name": "stdout",
     "output_type": "stream",
     "text": [
      "This is wrapper\n",
      "test3 msg\n",
      "test3\n"
     ]
    }
   ],
   "source": [
    "import functools\n",
    "\n",
    "def my_decorator3(func):\n",
    "    @functools.wraps(func)\n",
    "    def wrapper(msg):\n",
    "        print(\"This is wrapper\")\n",
    "        func(msg)\n",
    "    return wrapper\n",
    "\n",
    "@my_decorator3\n",
    "def test3(msg):\n",
    "    print(\"test3\", msg)\n",
    "\n",
    "test3(\"msg\")\n",
    "\n",
    "print(test3.__name__)"
   ]
  },
  {
   "cell_type": "code",
   "execution_count": 11,
   "id": "6cd5fa74-b8e3-44ee-ba83-c06443d69b62",
   "metadata": {},
   "outputs": [
    {
     "name": "stdout",
     "output_type": "stream",
     "text": [
      "This is wrapper\n",
      "test4 msg 1\n"
     ]
    }
   ],
   "source": [
    "def my_decorator4(func):\n",
    "    def wrapper(*args, **kargs):\n",
    "        print(\"This is wrapper\")\n",
    "        func(*args, **kargs)\n",
    "    return wrapper\n",
    "\n",
    "@my_decorator4\n",
    "def test4(msg, id):\n",
    "    print(\"test4\", msg, id)\n",
    "\n",
    "test4(\"msg\", 1)"
   ]
  },
  {
   "cell_type": "code",
   "execution_count": 15,
   "id": "f73c7e36-64e6-49f3-bf08-c2a595fba5a8",
   "metadata": {},
   "outputs": [
    {
     "name": "stdout",
     "output_type": "stream",
     "text": [
      "This is wrapper\n",
      "test5 msg 1\n",
      "This is wrapper\n",
      "test5 msg 1\n",
      "This is wrapper\n",
      "test5 msg 1\n",
      "This is wrapper\n",
      "test5 msg 1\n"
     ]
    }
   ],
   "source": [
    "def repeat(num):\n",
    "    def my_decorator5(func):\n",
    "        def wrapper(*args, **kargs):\n",
    "            for i in range(num):\n",
    "                print(\"This is wrapper\")\n",
    "                func(*args, **kargs)\n",
    "        return wrapper\n",
    "    return my_decorator5\n",
    "\n",
    "@repeat(4)\n",
    "def test5(msg, id):\n",
    "    print(\"test5\", msg, id)\n",
    "\n",
    "test5(\"msg\", 1)"
   ]
  },
  {
   "cell_type": "code",
   "execution_count": 20,
   "id": "cb9e3703-c607-4ad7-a414-a4dc8c92250e",
   "metadata": {},
   "outputs": [
    {
     "name": "stdout",
     "output_type": "stream",
     "text": [
      "2 3 1\n"
     ]
    }
   ],
   "source": [
    "def test_args(*args, **kwargs):\n",
    "    test_func(*args, **kwargs)\n",
    "\n",
    "def test_func(a, b, c):\n",
    "    print(a, b , c)\n",
    "\n",
    "\n",
    "test_args(1, a=2, b=3)"
   ]
  },
  {
   "cell_type": "code",
   "execution_count": null,
   "id": "70987240-ad3c-48e4-b739-498c8c6da331",
   "metadata": {},
   "outputs": [],
   "source": []
  }
 ],
 "metadata": {
  "kernelspec": {
   "display_name": "Python 3 (ipykernel)",
   "language": "python",
   "name": "python3"
  },
  "language_info": {
   "codemirror_mode": {
    "name": "ipython",
    "version": 3
   },
   "file_extension": ".py",
   "mimetype": "text/x-python",
   "name": "python",
   "nbconvert_exporter": "python",
   "pygments_lexer": "ipython3",
   "version": "3.11.3"
  }
 },
 "nbformat": 4,
 "nbformat_minor": 5
}
