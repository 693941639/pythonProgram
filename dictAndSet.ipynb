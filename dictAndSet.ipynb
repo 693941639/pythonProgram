{
 "cells": [
  {
   "cell_type": "code",
   "execution_count": 1,
   "id": "88701169-2d1a-4e53-a781-04aa22d08886",
   "metadata": {},
   "outputs": [
    {
     "name": "stdout",
     "output_type": "stream",
     "text": [
      "{'b': 1, 'a': 2, 'c': 3} [('a', 2), ('b', 1), ('c', 3)] [('b', 1), ('a', 2), ('c', 3)]\n"
     ]
    }
   ],
   "source": [
    "d = {'b': 1, 'a': 2, 'c': 3}\n",
    "sort_by_k = sorted(d.items(), key=lambda x: x[0])\n",
    "sort_by_v = sorted(d.items(), key=lambda x: x[1])\n",
    "\n",
    "print(d, sort_by_k, sort_by_v)"
   ]
  },
  {
   "cell_type": "code",
   "execution_count": null,
   "id": "d16cfa76-11a2-426b-9d7e-abc747756809",
   "metadata": {},
   "outputs": [],
   "source": []
  }
 ],
 "metadata": {
  "kernelspec": {
   "display_name": "Python 3 (ipykernel)",
   "language": "python",
   "name": "python3"
  },
  "language_info": {
   "codemirror_mode": {
    "name": "ipython",
    "version": 3
   },
   "file_extension": ".py",
   "mimetype": "text/x-python",
   "name": "python",
   "nbconvert_exporter": "python",
   "pygments_lexer": "ipython3",
   "version": "3.11.3"
  }
 },
 "nbformat": 4,
 "nbformat_minor": 5
}
